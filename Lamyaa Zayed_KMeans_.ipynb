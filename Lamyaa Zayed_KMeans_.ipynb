{
 "cells": [
  {
   "cell_type": "code",
   "execution_count": 114,
   "metadata": {},
   "outputs": [],
   "source": [
    "import numpy as np\n",
    "import matplotlib.pyplot as plt\n",
    "import math as m\n",
    "from sklearn.datasets import make_blobs #used to generate the data points"
   ]
  },
  {
   "cell_type": "code",
   "execution_count": 115,
   "metadata": {},
   "outputs": [],
   "source": [
    "def plot_data(X):\n",
    "    plt.figure(figsize=(7,7))\n",
    "    for i in range(len(X)):\n",
    "        plt.scatter(X[i][0],X[i][1],color='k')   "
   ]
  },
  {
   "cell_type": "code",
   "execution_count": 116,
   "metadata": {},
   "outputs": [],
   "source": [
    "def random_centroid(X,k):\n",
    "    random_idx=[np.random.randint(len(X)) for i in range(k)]\n",
    "    centroids=[]\n",
    "    for i in random_idx:\n",
    "        centroids.append(X[i])\n",
    "    return centroids"
   ]
  },
  {
   "cell_type": "code",
   "execution_count": 117,
   "metadata": {},
   "outputs": [],
   "source": [
    "def assign_cluster(X,ini_centroids,k):\n",
    "    cluster=[] \n",
    "    for i in range(len(X)):\n",
    "        euc_dist=[] \n",
    "        for j in range(k):\n",
    "            euc_dist.append(np.linalg.norm(np.subtract(X[i],ini_centroids[j]))) \n",
    "        idx=np.argmin(euc_dist) \n",
    "        cluster.append(idx) \n",
    "    return np.asarray(cluster)"
   ]
  },
  {
   "cell_type": "code",
   "execution_count": 118,
   "metadata": {},
   "outputs": [],
   "source": [
    "def update_centroid(X,clusters,k):\n",
    "    centroid = []\n",
    "    for i in range(k):\n",
    "        temp_arr=[]\n",
    "        for j in range(len(X)):\n",
    "            if clusters[j]==i:\n",
    "                temp_arr.append(X[j])\n",
    "        centroid.append(np.mean(temp_arr,axis=0))\n",
    "    return np.asarray(centroid)"
   ]
  },
  {
   "cell_type": "code",
   "execution_count": 119,
   "metadata": {},
   "outputs": [],
   "source": [
    "def difference(prev,nxt):\n",
    "    diff=0\n",
    "    for i in range(len(prev)):\n",
    "        diff+=np.linalg.norm(prev[i]-nxt[i])\n",
    "    return diff"
   ]
  },
  {
   "cell_type": "code",
   "execution_count": 120,
   "metadata": {},
   "outputs": [],
   "source": [
    "def show_clusters(X,clusters,centroids,ini_centroids,mark_centroid=True,show_ini_centroid=True,show_plots=True):\n",
    "    cols={0:'r',1:'b',2:'g',3:'coral',4:'c',5:'lime'}\n",
    "    fig,ax=plt.subplots(figsize=(7,7));\n",
    "    for i in range(len(clusters)):\n",
    "        ax.scatter(X[i][0],X[i][1],color=cols[clusters[i]])\n",
    "    for j in range(len(centroids)):\n",
    "        ax.scatter(centroids[j][0],centroids[j][1],marker='*',color=cols[j])\n",
    "        if show_ini_centroid==True:\n",
    "            ax.scatter(ini_centroids[j][0],ini_centroids[j][1],marker=\"+\",s=150,color=cols[j])\n",
    "    if mark_centroid==True:\n",
    "        for i in range(len(centroids)):\n",
    "            ax.add_artist(plt.Circle((centroids[i][0],centroids[i][1]),0.4,linewidth=2,fill=False))\n",
    "            if show_ini_centroid==True:\n",
    "                ax.add_artist(plt.Circle((ini_centroids[i][0],ini_centroids[i][1]),0.4,linewidth=2,color='y',fill=False))\n",
    "    ax.set_xlabel(\"Feature 1\")\n",
    "    ax.set_ylabel(\"Feature 2\")\n",
    "    ax.set_title(\"K-means Clustering\")\n",
    "    if show_plots==True:\n",
    "        plt.show()"
   ]
  },
  {
   "cell_type": "code",
   "execution_count": 121,
   "metadata": {},
   "outputs": [],
   "source": [
    "\n",
    "def k_means(X,k,show_type='all',show_plots=True):\n",
    "    c_prev=random_centroid(X,k)\n",
    "    cluster=assign_cluster(X,c_prev,k) \n",
    "    diff = 100 \n",
    "    ini_centroid = c_prev; \n",
    "    \n",
    "    print(\"NOTE:\\n + and Yellow Circle -> Initial Centroid\\n * andBlack Circle -> Final Centroid\")\n",
    "    if show_plots:\n",
    "        print(\"\\n\\nInitial Plot:\\n\")\n",
    "        show_clusters(X,cluster,c_prev,ini_centroid,show_plots=show_plots)\n",
    "        \n",
    "    while diff>0.0001:\n",
    "        cluster = assign_cluster(X,c_prev,k) \n",
    "        if show_type=='all' and show_plots:\n",
    "            show_clusters(X,cluster,c_prev,ini_centroid,False,False,show_plots=show_plots)\n",
    "            mark_centroid=False \n",
    "            show_ini_centroid=False \n",
    "            \n",
    "        c_new = update_centroid(X,cluster,k)\n",
    "        diff = difference(c_prev,c_new) \n",
    "        c_prev=c_new \n",
    "    \n",
    "    if show_plots:\n",
    "        print(\"\\nInitial Cluster Centers:\\n\")\n",
    "        print(ini_centroid)\n",
    "        print(\"\\nFinal Cluster Centers:\\n\")\n",
    "        print(c_prev)\n",
    "        print(\"\\n\\nFinal Plot:\\n\") \n",
    "        show_clusters(X,cluster,c_prev,ini_centroid,mark_centroid=True,show_ini_centroid=True)    \n",
    "    return cluster,c_prev\n",
    "        "
   ]
  },
  {
   "cell_type": "code",
   "execution_count": 122,
   "metadata": {},
   "outputs": [],
   "source": [
    "k=3\n",
    "X,original_clus = make_blobs(n_samples=50, centers=3, n_features=2, random_state=20)\n"
   ]
  },
  {
   "cell_type": "code",
   "execution_count": 123,
   "metadata": {},
   "outputs": [
    {
     "data": {
      "text/plain": [
       "(50, 2)"
      ]
     },
     "execution_count": 123,
     "metadata": {},
     "output_type": "execute_result"
    }
   ],
   "source": [
    "X.shape"
   ]
  },
  {
   "cell_type": "code",
   "execution_count": 124,
   "metadata": {},
   "outputs": [
    {
     "data": {
      "text/plain": [
       "array([2.26571286, 8.36068903])"
      ]
     },
     "execution_count": 124,
     "metadata": {},
     "output_type": "execute_result"
    }
   ],
   "source": [
    "np.random.choice(range(X.shape[0]))\n",
    "X[np.random.choice(range(X.shape[0]))]"
   ]
  },
  {
   "cell_type": "code",
   "execution_count": 125,
   "metadata": {},
   "outputs": [
    {
     "data": {
      "image/png": "[encoded data removed]",
      "text/plain": [
       "<Figure size 504x504 with 1 Axes>"
      ]
     },
     "metadata": {
      "needs_background": "light"
     },
     "output_type": "display_data"
    }
   ],
   "source": [
    "plot_data(X)"
   ]
  },
  {
   "cell_type": "code",
   "execution_count": 126,
   "metadata": {
    "scrolled": false
   },
   "outputs": [
    {
     "name": "stdout",
     "output_type": "stream",
     "text": [
      "NOTE:\n",
      " + and Yellow Circle -> Initial Centroid\n",
      " * andBlack Circle -> Final Centroid\n",
      "\n",
      "\n",
      "Initial Plot:\n",
      "\n"
     ]
    },
    {
     "data": {
      "image/png": "[encoded data removed]",
      "text/plain": [
       "<Figure size 504x504 with 1 Axes>"
      ]
     },
     "metadata": {
      "needs_background": "light"
     },
     "output_type": "display_data"
    },
    {
     "name": "stdout",
     "output_type": "stream",
     "text": [
      "\n",
      "Initial Cluster Centers:\n",
      "\n",
      "[array([0.82767806, 6.34128434]), array([-10.22111878,   1.93368758]), array([-9.52167804,  4.29489586])]\n",
      "\n",
      "Final Cluster Centers:\n",
      "\n",
      "[[  4.94071398   7.00104277]\n",
      " [-10.61896182   2.12402277]\n",
      " [ -9.54269796   4.31698518]]\n",
      "\n",
      "\n",
      "Final Plot:\n",
      "\n"
     ]
    },
    {
     "data": {
      "image/png": "[encoded data removed]",
      "text/plain": [
       "<Figure size 504x504 with 1 Axes>"
      ]
     },
     "metadata": {
      "needs_background": "light"
     },
     "output_type": "display_data"
    }
   ],
   "source": [
    "cluster,centroid = k_means(X,k,show_type='ini_fin')"
   ]
  },
  {
   "cell_type": "code",
   "execution_count": 127,
   "metadata": {},
   "outputs": [],
   "source": [
    "from sklearn.cluster import KMeans\n",
    "km = KMeans(\n",
    "    n_clusters=3, init='random',\n",
    "    n_init=10, max_iter=300, \n",
    "    tol=1e-04, random_state=0\n",
    ")\n",
    "y_km = km.fit_predict(X)"
   ]
  },
  {
   "cell_type": "code",
   "execution_count": 128,
   "metadata": {},
   "outputs": [
    {
     "data": {
      "image/png": "[encoded data removed]",
      "text/plain": [
       "<Figure size 432x288 with 1 Axes>"
      ]
     },
     "metadata": {
      "needs_background": "light"
     },
     "output_type": "display_data"
    }
   ],
   "source": [
    "plt.scatter(X[y_km == 0, 0], X[y_km == 0, 1],c='blue')\n",
    "plt.scatter(X[y_km == 1, 0], X[y_km == 1, 1],c='red')\n",
    "plt.scatter(X[y_km == 2, 0], X[y_km == 2, 1],c='green')\n",
    "plt.show()"
   ]
  },
  {
   "cell_type": "code",
   "execution_count": 129,
   "metadata": {},
   "outputs": [
    {
     "data": {
      "image/png": "[encoded data removed]",
      "text/plain": [
       "<Figure size 432x288 with 1 Axes>"
      ]
     },
     "metadata": {
      "needs_background": "light"
     },
     "output_type": "display_data"
    }
   ],
   "source": [
    "sse = []\n",
    "k=range(1, 11)\n",
    "for i in k:\n",
    "    km = KMeans(\n",
    "        n_clusters=i, init='random',\n",
    "        n_init=10, max_iter=300,\n",
    "        tol=1e-04, random_state=0\n",
    "    )\n",
    "    km.fit(X)\n",
    "    sse.append(km.inertia_)\n",
    "plt.plot(k, sse, marker='o')\n",
    "plt.xlabel('Number of clusters')\n",
    "plt.ylabel('Sum of Squared Error')\n",
    "plt.show()"
   ]
  },
  {
   "cell_type": "code",
   "execution_count": null,
   "metadata": {},
   "outputs": [],
   "source": []
  }
 ],
 "metadata": {
  "kernelspec": {
   "display_name": "Python 3",
   "language": "python",
   "name": "python3"
  },
  "language_info": {
   "codemirror_mode": {
    "name": "ipython",
    "version": 3
   },
   "file_extension": ".py",
   "mimetype": "text/x-python",
   "name": "python",
   "nbconvert_exporter": "python",
   "pygments_lexer": "ipython3",
   "version": "3.8.5"
  }
 },
 "nbformat": 4,
 "nbformat_minor": 2
}

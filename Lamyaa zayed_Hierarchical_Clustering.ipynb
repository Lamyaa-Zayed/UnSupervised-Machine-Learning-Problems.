{
 "cells": [
  {
   "cell_type": "markdown",
   "metadata": {},
   "source": [
    "# <a name=\"0\">Hierarchical Clustering</a>"
   ]
  },
  {
   "cell_type": "markdown",
   "metadata": {},
   "source": [
    "1. <a href=\"#1\">Read the dataset</a>\n",
    "2. <a href=\"#2\">Data investigation</a>\n",
    "3. <a href=\"#3\">Data preprocessing </a>\n",
    "4. <a href=\"#4\">Features transformation </a>\n",
    "4. <a href=\"#5\">Training datasets</a>\n",
    "5. <a href=\"#6\">Improvement ideas</a>\n",
    "\n"
   ]
  },
  {
   "cell_type": "code",
   "execution_count": 17,
   "metadata": {},
   "outputs": [],
   "source": [
    "import pandas as pd\n",
    "import numpy as np\n",
    "import matplotlib.pyplot as plt\n",
    "from scipy import stats\n",
    "import warnings\n",
    "warnings.filterwarnings(\"ignore\")"
   ]
  },
  {
   "cell_type": "markdown",
   "metadata": {},
   "source": [
    "## 1. <a name=\"1\">Read the dataset</a>\n",
    "(<a href=\"#0\">Go to top</a>)\n",
    "\n",
    "First dowmload the data set from this link https://www.kaggle.com/fernandol/countries-of-the-world\n",
    "then import it in python."
   ]
  },
  {
   "cell_type": "code",
   "execution_count": 2,
   "metadata": {},
   "outputs": [
    {
     "name": "stdout",
     "output_type": "stream",
     "text": [
      "The shape of the dataset is: (227, 20)\n"
     ]
    }
   ],
   "source": [
    "#read the data\n",
    "\n",
    "# data_path = ''  #the path where you downloaded the data\n",
    "df = pd.read_csv('countries of the world.csv')\n",
    "\n",
    "print('The shape of the dataset is:', df.shape)"
   ]
  },
  {
   "cell_type": "markdown",
   "metadata": {},
   "source": [
    "## 2. <a name=\"2\">Data investigation</a>\n",
    "(<a href=\"#0\">Go to top</a>)\n",
    "\n",
    "in this part you need to check the data quality and assess any issues in the data as:\n",
    "- null values in each column \n",
    "- each column has the proper data type\n",
    "- outliers\n",
    "- duplicate rows\n",
    "- distribution for each column (skewness)\n",
    "<br>\n",
    "\n",
    "**comment each issue you find** "
   ]
  },
  {
   "cell_type": "code",
   "execution_count": 3,
   "metadata": {},
   "outputs": [
    {
     "name": "stdout",
     "output_type": "stream",
     "text": [
      "<class 'pandas.core.frame.DataFrame'>\n",
      "RangeIndex: 227 entries, 0 to 226\n",
      "Data columns (total 20 columns):\n",
      " #   Column                              Non-Null Count  Dtype  \n",
      "---  ------                              --------------  -----  \n",
      " 0   Country                             227 non-null    object \n",
      " 1   Region                              227 non-null    object \n",
      " 2   Population                          227 non-null    int64  \n",
      " 3   Area (sq. mi.)                      227 non-null    int64  \n",
      " 4   Pop. Density (per sq. mi.)          227 non-null    object \n",
      " 5   Coastline (coast/area ratio)        227 non-null    object \n",
      " 6   Net migration                       224 non-null    object \n",
      " 7   Infant mortality (per 1000 births)  224 non-null    object \n",
      " 8   GDP ($ per capita)                  226 non-null    float64\n",
      " 9   Literacy (%)                        209 non-null    object \n",
      " 10  Phones (per 1000)                   223 non-null    object \n",
      " 11  Arable (%)                          225 non-null    object \n",
      " 12  Crops (%)                           225 non-null    object \n",
      " 13  Other (%)                           225 non-null    object \n",
      " 14  Climate                             205 non-null    object \n",
      " 15  Birthrate                           224 non-null    object \n",
      " 16  Deathrate                           223 non-null    object \n",
      " 17  Agriculture                         212 non-null    object \n",
      " 18  Industry                            211 non-null    object \n",
      " 19  Service                             212 non-null    object \n",
      "dtypes: float64(1), int64(2), object(17)\n",
      "memory usage: 35.6+ KB\n"
     ]
    }
   ],
   "source": [
    "# Let's see the data types and non-null values for each column\n",
    "df.info()"
   ]
  },
  {
   "cell_type": "code",
   "execution_count": 4,
   "metadata": {},
   "outputs": [
    {
     "data": {
      "text/plain": [
       "Country                               0.00\n",
       "Region                                0.00\n",
       "Population                            0.00\n",
       "Area (sq. mi.)                        0.00\n",
       "Pop. Density (per sq. mi.)            0.00\n",
       "Coastline (coast/area ratio)          0.00\n",
       "Net migration                         1.32\n",
       "Infant mortality (per 1000 births)    1.32\n",
       "GDP ($ per capita)                    0.44\n",
       "Literacy (%)                          7.93\n",
       "Phones (per 1000)                     1.76\n",
       "Arable (%)                            0.88\n",
       "Crops (%)                             0.88\n",
       "Other (%)                             0.88\n",
       "Climate                               9.69\n",
       "Birthrate                             1.32\n",
       "Deathrate                             1.76\n",
       "Agriculture                           6.61\n",
       "Industry                              7.05\n",
       "Service                               6.61\n",
       "dtype: float64"
      ]
     },
     "execution_count": 4,
     "metadata": {},
     "output_type": "execute_result"
    }
   ],
   "source": [
    "round(df.isnull().sum(axis=0)*100/df.shape[0],2)"
   ]
  },
  {
   "cell_type": "code",
   "execution_count": 5,
   "metadata": {},
   "outputs": [
    {
     "data": {
      "text/html": [
       "<div>\n",
       "<style scoped>\n",
       "    .dataframe tbody tr th:only-of-type {\n",
       "        vertical-align: middle;\n",
       "    }\n",
       "\n",
       "    .dataframe tbody tr th {\n",
       "        vertical-align: top;\n",
       "    }\n",
       "\n",
       "    .dataframe thead th {\n",
       "        text-align: right;\n",
       "    }\n",
       "</style>\n",
       "<table border=\"1\" class=\"dataframe\">\n",
       "  <thead>\n",
       "    <tr style=\"text-align: right;\">\n",
       "      <th></th>\n",
       "      <th>Population</th>\n",
       "      <th>Area (sq. mi.)</th>\n",
       "      <th>GDP ($ per capita)</th>\n",
       "    </tr>\n",
       "  </thead>\n",
       "  <tbody>\n",
       "    <tr>\n",
       "      <th>count</th>\n",
       "      <td>2.270000e+02</td>\n",
       "      <td>2.270000e+02</td>\n",
       "      <td>226.000000</td>\n",
       "    </tr>\n",
       "    <tr>\n",
       "      <th>mean</th>\n",
       "      <td>2.874028e+07</td>\n",
       "      <td>5.982270e+05</td>\n",
       "      <td>9689.823009</td>\n",
       "    </tr>\n",
       "    <tr>\n",
       "      <th>std</th>\n",
       "      <td>1.178913e+08</td>\n",
       "      <td>1.790282e+06</td>\n",
       "      <td>10049.138513</td>\n",
       "    </tr>\n",
       "    <tr>\n",
       "      <th>min</th>\n",
       "      <td>7.026000e+03</td>\n",
       "      <td>2.000000e+00</td>\n",
       "      <td>500.000000</td>\n",
       "    </tr>\n",
       "    <tr>\n",
       "      <th>25%</th>\n",
       "      <td>4.376240e+05</td>\n",
       "      <td>4.647500e+03</td>\n",
       "      <td>1900.000000</td>\n",
       "    </tr>\n",
       "    <tr>\n",
       "      <th>50%</th>\n",
       "      <td>4.786994e+06</td>\n",
       "      <td>8.660000e+04</td>\n",
       "      <td>5550.000000</td>\n",
       "    </tr>\n",
       "    <tr>\n",
       "      <th>75%</th>\n",
       "      <td>1.749777e+07</td>\n",
       "      <td>4.418110e+05</td>\n",
       "      <td>15700.000000</td>\n",
       "    </tr>\n",
       "    <tr>\n",
       "      <th>max</th>\n",
       "      <td>1.313974e+09</td>\n",
       "      <td>1.707520e+07</td>\n",
       "      <td>55100.000000</td>\n",
       "    </tr>\n",
       "  </tbody>\n",
       "</table>\n",
       "</div>"
      ],
      "text/plain": [
       "         Population  Area (sq. mi.)  GDP ($ per capita)\n",
       "count  2.270000e+02    2.270000e+02          226.000000\n",
       "mean   2.874028e+07    5.982270e+05         9689.823009\n",
       "std    1.178913e+08    1.790282e+06        10049.138513\n",
       "min    7.026000e+03    2.000000e+00          500.000000\n",
       "25%    4.376240e+05    4.647500e+03         1900.000000\n",
       "50%    4.786994e+06    8.660000e+04         5550.000000\n",
       "75%    1.749777e+07    4.418110e+05        15700.000000\n",
       "max    1.313974e+09    1.707520e+07        55100.000000"
      ]
     },
     "execution_count": 5,
     "metadata": {},
     "output_type": "execute_result"
    }
   ],
   "source": [
    "# This will print basic statistics for numerical columns\n",
    "df.describe()"
   ]
  },
  {
   "cell_type": "code",
   "execution_count": 7,
   "metadata": {},
   "outputs": [
    {
     "data": {
      "text/plain": [
       "Population            4786994.0\n",
       "Area (sq. mi.)          86600.0\n",
       "GDP ($ per capita)       5550.0\n",
       "dtype: float64"
      ]
     },
     "execution_count": 7,
     "metadata": {},
     "output_type": "execute_result"
    }
   ],
   "source": [
    "df.median()"
   ]
  },
  {
   "cell_type": "code",
   "execution_count": 9,
   "metadata": {},
   "outputs": [
    {
     "data": {
      "text/plain": [
       "array([[<AxesSubplot:title={'center':'Population'}>,\n",
       "        <AxesSubplot:title={'center':'Area (sq. mi.)'}>],\n",
       "       [<AxesSubplot:title={'center':'GDP ($ per capita)'}>,\n",
       "        <AxesSubplot:>]], dtype=object)"
      ]
     },
     "execution_count": 9,
     "metadata": {},
     "output_type": "execute_result"
    },
    {
     "data": {
      "image/png": "[encoded data removed]",
      "text/plain": [
       "<Figure size 432x288 with 4 Axes>"
      ]
     },
     "metadata": {
      "needs_background": "light"
     },
     "output_type": "display_data"
    }
   ],
   "source": [
    "df.hist()"
   ]
  },
  {
   "cell_type": "markdown",
   "metadata": {},
   "source": [
    "## 3. <a name=\"3\">Data preprocessing</a>\n",
    "(<a href=\"#0\">Go to top</a>)\n"
   ]
  },
  {
   "cell_type": "markdown",
   "metadata": {},
   "source": [
    "### Define below all the issues that you had found in the previous part\n",
    "1-  Data has some features with null values (only first six features hasn't any nulls).\\\n",
    "2-  Some Features has not proper data type (Object instead of int or float dtypes).\\\n",
    "3-  Data has outliers (There is difference between mean and median values)."
   ]
  },
  {
   "cell_type": "code",
   "execution_count": 6,
   "metadata": {},
   "outputs": [],
   "source": [
    "#make a copy for the original dataset\n",
    "df_copy=df.copy()"
   ]
  },
  {
   "cell_type": "markdown",
   "metadata": {},
   "source": [
    "### for each issue adapt this methodology \n",
    "- start by defining the solution\n",
    "- apply this solution on the data\n",
    "- test the solution to make sure that you have solved the issue"
   ]
  },
  {
   "cell_type": "markdown",
   "metadata": {},
   "source": [
    "**First issue**"
   ]
  },
  {
   "cell_type": "code",
   "execution_count": 11,
   "metadata": {},
   "outputs": [],
   "source": [
    "#solution \n",
    "df = df.dropna()"
   ]
  },
  {
   "cell_type": "code",
   "execution_count": 12,
   "metadata": {},
   "outputs": [
    {
     "name": "stdout",
     "output_type": "stream",
     "text": [
      "<class 'pandas.core.frame.DataFrame'>\n",
      "Int64Index: 179 entries, 0 to 226\n",
      "Data columns (total 20 columns):\n",
      " #   Column                              Non-Null Count  Dtype  \n",
      "---  ------                              --------------  -----  \n",
      " 0   Country                             179 non-null    object \n",
      " 1   Region                              179 non-null    object \n",
      " 2   Population                          179 non-null    int64  \n",
      " 3   Area (sq. mi.)                      179 non-null    int64  \n",
      " 4   Pop. Density (per sq. mi.)          179 non-null    object \n",
      " 5   Coastline (coast/area ratio)        179 non-null    object \n",
      " 6   Net migration                       179 non-null    object \n",
      " 7   Infant mortality (per 1000 births)  179 non-null    object \n",
      " 8   GDP ($ per capita)                  179 non-null    float64\n",
      " 9   Literacy (%)                        179 non-null    object \n",
      " 10  Phones (per 1000)                   179 non-null    object \n",
      " 11  Arable (%)                          179 non-null    object \n",
      " 12  Crops (%)                           179 non-null    object \n",
      " 13  Other (%)                           179 non-null    object \n",
      " 14  Climate                             179 non-null    object \n",
      " 15  Birthrate                           179 non-null    object \n",
      " 16  Deathrate                           179 non-null    object \n",
      " 17  Agriculture                         179 non-null    object \n",
      " 18  Industry                            179 non-null    object \n",
      " 19  Service                             179 non-null    object \n",
      "dtypes: float64(1), int64(2), object(17)\n",
      "memory usage: 29.4+ KB\n"
     ]
    }
   ],
   "source": [
    "#test \n",
    "df.info()"
   ]
  },
  {
   "cell_type": "code",
   "execution_count": 14,
   "metadata": {},
   "outputs": [
    {
     "data": {
      "text/plain": [
       "Country                               0\n",
       "Region                                0\n",
       "Population                            0\n",
       "Area (sq. mi.)                        0\n",
       "Pop. Density (per sq. mi.)            0\n",
       "Coastline (coast/area ratio)          0\n",
       "Net migration                         0\n",
       "Infant mortality (per 1000 births)    0\n",
       "GDP ($ per capita)                    0\n",
       "Literacy (%)                          0\n",
       "Phones (per 1000)                     0\n",
       "Arable (%)                            0\n",
       "Crops (%)                             0\n",
       "Other (%)                             0\n",
       "Climate                               0\n",
       "Birthrate                             0\n",
       "Deathrate                             0\n",
       "Agriculture                           0\n",
       "Industry                              0\n",
       "Service                               0\n",
       "dtype: int64"
      ]
     },
     "execution_count": 14,
     "metadata": {},
     "output_type": "execute_result"
    }
   ],
   "source": [
    "df.isnull().sum()"
   ]
  },
  {
   "cell_type": "markdown",
   "metadata": {},
   "source": [
    "**Second issue**"
   ]
  },
  {
   "cell_type": "code",
   "execution_count": 24,
   "metadata": {},
   "outputs": [],
   "source": [
    "selected_columns = ['Population', 'Area (sq. mi.)', 'GDP ($ per capita)']"
   ]
  },
  {
   "cell_type": "code",
   "execution_count": 30,
   "metadata": {},
   "outputs": [],
   "source": [
    "#solution \n",
    "for i in selected_columns:\n",
    "    df[i] = df[i].astype(float)"
   ]
  },
  {
   "cell_type": "code",
   "execution_count": 31,
   "metadata": {},
   "outputs": [
    {
     "name": "stdout",
     "output_type": "stream",
     "text": [
      "<class 'pandas.core.frame.DataFrame'>\n",
      "Int64Index: 163 entries, 0 to 226\n",
      "Data columns (total 3 columns):\n",
      " #   Column              Non-Null Count  Dtype  \n",
      "---  ------              --------------  -----  \n",
      " 0   Population          163 non-null    float64\n",
      " 1   Area (sq. mi.)      163 non-null    float64\n",
      " 2   GDP ($ per capita)  163 non-null    float64\n",
      "dtypes: float64(3)\n",
      "memory usage: 5.1 KB\n"
     ]
    }
   ],
   "source": [
    "#test \n",
    "df[selected_columns].info()"
   ]
  },
  {
   "cell_type": "markdown",
   "metadata": {},
   "source": [
    "**Third issue**"
   ]
  },
  {
   "cell_type": "code",
   "execution_count": 27,
   "metadata": {},
   "outputs": [],
   "source": [
    "def removeOutliers(df,outliersColomns):\n",
    "    z_scores = stats. zscore(df[outliersColomns]) \n",
    "    abs_z_scores = np. abs(z_scores)\n",
    "    filtered_entries = (abs_z_scores < 3). all(axis=1)\n",
    "    new_df = df[filtered_entries]\n",
    "    return new_df"
   ]
  },
  {
   "cell_type": "code",
   "execution_count": 28,
   "metadata": {},
   "outputs": [],
   "source": [
    "df = removeOutliers(df, selected_columns)"
   ]
  },
  {
   "cell_type": "code",
   "execution_count": 32,
   "metadata": {},
   "outputs": [
    {
     "data": {
      "text/html": [
       "<div>\n",
       "<style scoped>\n",
       "    .dataframe tbody tr th:only-of-type {\n",
       "        vertical-align: middle;\n",
       "    }\n",
       "\n",
       "    .dataframe tbody tr th {\n",
       "        vertical-align: top;\n",
       "    }\n",
       "\n",
       "    .dataframe thead th {\n",
       "        text-align: right;\n",
       "    }\n",
       "</style>\n",
       "<table border=\"1\" class=\"dataframe\">\n",
       "  <thead>\n",
       "    <tr style=\"text-align: right;\">\n",
       "      <th></th>\n",
       "      <th>Population</th>\n",
       "      <th>Area (sq. mi.)</th>\n",
       "      <th>GDP ($ per capita)</th>\n",
       "    </tr>\n",
       "  </thead>\n",
       "  <tbody>\n",
       "    <tr>\n",
       "      <th>count</th>\n",
       "      <td>1.630000e+02</td>\n",
       "      <td>1.630000e+02</td>\n",
       "      <td>163.000000</td>\n",
       "    </tr>\n",
       "    <tr>\n",
       "      <th>mean</th>\n",
       "      <td>1.345818e+07</td>\n",
       "      <td>2.764665e+05</td>\n",
       "      <td>8901.840491</td>\n",
       "    </tr>\n",
       "    <tr>\n",
       "      <th>std</th>\n",
       "      <td>2.042450e+07</td>\n",
       "      <td>4.012061e+05</td>\n",
       "      <td>9208.319322</td>\n",
       "    </tr>\n",
       "    <tr>\n",
       "      <th>min</th>\n",
       "      <td>1.347700e+04</td>\n",
       "      <td>2.800000e+01</td>\n",
       "      <td>500.000000</td>\n",
       "    </tr>\n",
       "    <tr>\n",
       "      <th>25%</th>\n",
       "      <td>8.364715e+05</td>\n",
       "      <td>1.565150e+04</td>\n",
       "      <td>1800.000000</td>\n",
       "    </tr>\n",
       "    <tr>\n",
       "      <th>50%</th>\n",
       "      <td>5.670544e+06</td>\n",
       "      <td>9.848000e+04</td>\n",
       "      <td>5100.000000</td>\n",
       "    </tr>\n",
       "    <tr>\n",
       "      <th>75%</th>\n",
       "      <td>1.389220e+07</td>\n",
       "      <td>3.495105e+05</td>\n",
       "      <td>12950.000000</td>\n",
       "    </tr>\n",
       "    <tr>\n",
       "      <th>max</th>\n",
       "      <td>1.074495e+08</td>\n",
       "      <td>1.972550e+06</td>\n",
       "      <td>36000.000000</td>\n",
       "    </tr>\n",
       "  </tbody>\n",
       "</table>\n",
       "</div>"
      ],
      "text/plain": [
       "         Population  Area (sq. mi.)  GDP ($ per capita)\n",
       "count  1.630000e+02    1.630000e+02          163.000000\n",
       "mean   1.345818e+07    2.764665e+05         8901.840491\n",
       "std    2.042450e+07    4.012061e+05         9208.319322\n",
       "min    1.347700e+04    2.800000e+01          500.000000\n",
       "25%    8.364715e+05    1.565150e+04         1800.000000\n",
       "50%    5.670544e+06    9.848000e+04         5100.000000\n",
       "75%    1.389220e+07    3.495105e+05        12950.000000\n",
       "max    1.074495e+08    1.972550e+06        36000.000000"
      ]
     },
     "execution_count": 32,
     "metadata": {},
     "output_type": "execute_result"
    }
   ],
   "source": [
    "df[selected_columns].describe()"
   ]
  },
  {
   "cell_type": "code",
   "execution_count": 21,
   "metadata": {},
   "outputs": [
    {
     "data": {
      "text/plain": [
       "Population            6437472.5\n",
       "Area (sq. mi.)         111730.0\n",
       "GDP ($ per capita)       5050.0\n",
       "dtype: float64"
      ]
     },
     "execution_count": 21,
     "metadata": {},
     "output_type": "execute_result"
    }
   ],
   "source": [
    "df[outlier_columns].median()"
   ]
  },
  {
   "cell_type": "markdown",
   "metadata": {},
   "source": [
    "## 4. <a name=\"4\">Features transformation</a>\n",
    "(<a href=\"#0\">Go to top</a>)"
   ]
  },
  {
   "cell_type": "markdown",
   "metadata": {},
   "source": [
    "*What is the feature scaling technique that would use and why?* <br>\n",
    "*return to this section again and try another technique and see how that will impact your result*<br>\n",
    "for more details on different methods for scaling check these links\n",
    "- https://scikit-learn.org/stable/modules/preprocessing.html#preprocessing\n",
    "- https://scikit-learn.org/stable/modules/classes.html#module-sklearn.preprocessing\n",
    "- https://www.analyticsvidhya.com/blog/2020/07/types-of-feature-transformation-and-scaling/"
   ]
  },
  {
   "cell_type": "code",
   "execution_count": 34,
   "metadata": {},
   "outputs": [],
   "source": [
    "from sklearn.preprocessing import MinMaxScaler\n",
    "def scaled_column(df,column):\n",
    "    return MinMaxScaler().fit_transform(np.array(df[column]).reshape(-1,1))"
   ]
  },
  {
   "cell_type": "code",
   "execution_count": 35,
   "metadata": {},
   "outputs": [],
   "source": [
    "for col_name in df.columns:\n",
    "    if col_name  in selected_columns:\n",
    "        df[col_name]=scaled_column(df,col_name)"
   ]
  },
  {
   "cell_type": "code",
   "execution_count": 36,
   "metadata": {},
   "outputs": [
    {
     "data": {
      "text/plain": [
       "array([[<AxesSubplot:title={'center':'Population'}>,\n",
       "        <AxesSubplot:title={'center':'Area (sq. mi.)'}>],\n",
       "       [<AxesSubplot:title={'center':'GDP ($ per capita)'}>,\n",
       "        <AxesSubplot:>]], dtype=object)"
      ]
     },
     "execution_count": 36,
     "metadata": {},
     "output_type": "execute_result"
    },
    {
     "data": {
      "image/png": "[encoded data removed]",
      "text/plain": [
       "<Figure size 432x288 with 4 Axes>"
      ]
     },
     "metadata": {
      "needs_background": "light"
     },
     "output_type": "display_data"
    }
   ],
   "source": [
    "df.hist()"
   ]
  },
  {
   "cell_type": "code",
   "execution_count": 37,
   "metadata": {},
   "outputs": [],
   "source": [
    "from sklearn import preprocessing"
   ]
  },
  {
   "cell_type": "code",
   "execution_count": 41,
   "metadata": {},
   "outputs": [
    {
     "data": {
      "text/html": [
       "<div>\n",
       "<style scoped>\n",
       "    .dataframe tbody tr th:only-of-type {\n",
       "        vertical-align: middle;\n",
       "    }\n",
       "\n",
       "    .dataframe tbody tr th {\n",
       "        vertical-align: top;\n",
       "    }\n",
       "\n",
       "    .dataframe thead th {\n",
       "        text-align: right;\n",
       "    }\n",
       "</style>\n",
       "<table border=\"1\" class=\"dataframe\">\n",
       "  <thead>\n",
       "    <tr style=\"text-align: right;\">\n",
       "      <th></th>\n",
       "      <th>Population</th>\n",
       "      <th>Area (sq. mi.)</th>\n",
       "      <th>GDP ($ per capita)</th>\n",
       "    </tr>\n",
       "  </thead>\n",
       "  <tbody>\n",
       "    <tr>\n",
       "      <th>0</th>\n",
       "      <td>0.288949</td>\n",
       "      <td>0.328246</td>\n",
       "      <td>0.005634</td>\n",
       "    </tr>\n",
       "    <tr>\n",
       "      <th>1</th>\n",
       "      <td>0.033212</td>\n",
       "      <td>0.014560</td>\n",
       "      <td>0.112676</td>\n",
       "    </tr>\n",
       "    <tr>\n",
       "      <th>6</th>\n",
       "      <td>0.000000</td>\n",
       "      <td>0.000038</td>\n",
       "      <td>0.228169</td>\n",
       "    </tr>\n",
       "    <tr>\n",
       "      <th>7</th>\n",
       "      <td>0.000518</td>\n",
       "      <td>0.000210</td>\n",
       "      <td>0.295775</td>\n",
       "    </tr>\n",
       "    <tr>\n",
       "      <th>9</th>\n",
       "      <td>0.027578</td>\n",
       "      <td>0.015093</td>\n",
       "      <td>0.084507</td>\n",
       "    </tr>\n",
       "    <tr>\n",
       "      <th>...</th>\n",
       "      <td>...</td>\n",
       "      <td>...</td>\n",
       "      <td>...</td>\n",
       "    </tr>\n",
       "    <tr>\n",
       "      <th>218</th>\n",
       "      <td>0.239370</td>\n",
       "      <td>0.462363</td>\n",
       "      <td>0.121127</td>\n",
       "    </tr>\n",
       "    <tr>\n",
       "      <th>219</th>\n",
       "      <td>0.785486</td>\n",
       "      <td>0.167061</td>\n",
       "      <td>0.056338</td>\n",
       "    </tr>\n",
       "    <tr>\n",
       "      <th>224</th>\n",
       "      <td>0.199586</td>\n",
       "      <td>0.267648</td>\n",
       "      <td>0.008451</td>\n",
       "    </tr>\n",
       "    <tr>\n",
       "      <th>225</th>\n",
       "      <td>0.106934</td>\n",
       "      <td>0.381535</td>\n",
       "      <td>0.008451</td>\n",
       "    </tr>\n",
       "    <tr>\n",
       "      <th>226</th>\n",
       "      <td>0.113773</td>\n",
       "      <td>0.197996</td>\n",
       "      <td>0.039437</td>\n",
       "    </tr>\n",
       "  </tbody>\n",
       "</table>\n",
       "<p>163 rows × 3 columns</p>\n",
       "</div>"
      ],
      "text/plain": [
       "     Population  Area (sq. mi.)  GDP ($ per capita)\n",
       "0      0.288949        0.328246            0.005634\n",
       "1      0.033212        0.014560            0.112676\n",
       "6      0.000000        0.000038            0.228169\n",
       "7      0.000518        0.000210            0.295775\n",
       "9      0.027578        0.015093            0.084507\n",
       "..          ...             ...                 ...\n",
       "218    0.239370        0.462363            0.121127\n",
       "219    0.785486        0.167061            0.056338\n",
       "224    0.199586        0.267648            0.008451\n",
       "225    0.106934        0.381535            0.008451\n",
       "226    0.113773        0.197996            0.039437\n",
       "\n",
       "[163 rows x 3 columns]"
      ]
     },
     "execution_count": 41,
     "metadata": {},
     "output_type": "execute_result"
    }
   ],
   "source": [
    "min_max_scaler = preprocessing.MinMaxScaler()\n",
    "df[selected_columns] = min_max_scaler.fit_transform(df[selected_columns].values)\n",
    "df[selected_columns]"
   ]
  },
  {
   "cell_type": "markdown",
   "metadata": {},
   "source": [
    "## 5. <a name=\"5\">Training and hyperparamter tuning</a>\n",
    "(<a href=\"#0\">Go to top</a>)\n"
   ]
  },
  {
   "cell_type": "markdown",
   "metadata": {},
   "source": [
    "Before we start the training process we need to specify 3 paramters:<br>\n",
    "1- Linkage criteria : The linkage criterion determines the distance between two clusters\n",
    "    - Complete-Linkage Clustering\n",
    "    - Single-Linkage Clustering\n",
    "    - Average-Linkage Clustering\n",
    "    - Centroid Linkage Clustering\n",
    "2- Distance function:\n",
    "    - Euclidean Distance \n",
    "    - Manhattan Distance \n",
    "    - Mahalanobis distance \n",
    "3- Number of clusters\n"
   ]
  },
  {
   "cell_type": "markdown",
   "metadata": {},
   "source": [
    "### *Number of clusters*\n",
    "Use Dendograms to specify the optimum number of clusters\n",
    "- Compare how changing linkage criteria or distance function would affect the optimum number of clusters\n",
    "- you can use silhouette_score or any other evalution method to help you determine the optimum number of clusters\n",
    "https://scikit-learn.org/stable/modules/generated/sklearn.metrics.silhouette_score.html"
   ]
  },
  {
   "cell_type": "code",
   "execution_count": 42,
   "metadata": {},
   "outputs": [],
   "source": [
    "import scipy.cluster.hierarchy as shc"
   ]
  },
  {
   "cell_type": "code",
   "execution_count": 50,
   "metadata": {},
   "outputs": [
    {
     "data": {
      "image/png": "[encoded data removed]",
      "text/plain": [
       "<Figure size 720x504 with 1 Axes>"
      ]
     },
     "metadata": {
      "needs_background": "light"
     },
     "output_type": "display_data"
    }
   ],
   "source": [
    "#fill y with your dataframe and method with linkage criteria and metric with distance function\n",
    "plt.figure(figsize=(10, 7))\n",
    "plt.title(\"Counters Dendograms\")\n",
    "dend = shc.dendrogram(shc.linkage(y=df[selected_columns] , method='single', metric='euclidean', optimal_ordering=False) )\n"
   ]
  },
  {
   "cell_type": "code",
   "execution_count": 51,
   "metadata": {},
   "outputs": [],
   "source": [
    "#training\n",
    "from sklearn.cluster import AgglomerativeClustering"
   ]
  },
  {
   "cell_type": "code",
   "execution_count": 70,
   "metadata": {},
   "outputs": [
    {
     "name": "stdout",
     "output_type": "stream",
     "text": [
      "AgglomerativeClustering(n_clusters=5)\n",
      "[0 0 0 0 0 2 2 0 2 2 2 0 2 0 0 2 0 3 0 2 2 0 0 1 0 0 0 0 2 0 3 0 3 0 0 0 0\n",
      " 0 2 2 0 0 0 0 1 0 0 0 0 1 0 2 4 0 2 0 0 0 4 0 2 0 0 0 0 0 0 0 0 2 2 2 1 0\n",
      " 2 2 0 0 0 0 4 2 0 0 0 0 0 2 2 0 0 0 0 3 0 2 3 0 1 0 3 0 0 2 0 2 2 0 3 2 0\n",
      " 0 0 0 3 1 0 2 2 2 0 0 0 0 0 0 0 0 3 0 0 0 2 0 3 4 0 0 0 2 2 0 2 0 1 0 0 0\n",
      " 0 1 0 0 1 2 4 2 0 0 3 1 0 0 0]\n"
     ]
    }
   ],
   "source": [
    "aggloclust = AgglomerativeClustering(affinity='euclidean', compute_full_tree='auto',\n",
    "            connectivity=None, linkage='ward', memory=None, n_clusters=5).fit(df[selected_columns])\n",
    "print(aggloclust)\n",
    "\n",
    "labels = aggloclust.labels_\n",
    "print(labels)\n"
   ]
  },
  {
   "cell_type": "code",
   "execution_count": 69,
   "metadata": {},
   "outputs": [
    {
     "data": {
      "image/png": "[encoded data removed]",
      "text/plain": [
       "<Figure size 432x432 with 1 Axes>"
      ]
     },
     "metadata": {
      "needs_background": "light"
     },
     "output_type": "display_data"
    }
   ],
   "source": [
    "aggCluster3 = AgglomerativeClustering(n_clusters = 3)\n",
    "plt.figure(figsize =(6, 6))\n",
    "plt.scatter(df['Population'], df['GDP ($ per capita)'], c = aggCluster3.fit_predict(df[selected_columns]), cmap ='rainbow')\n",
    "plt.show()\n"
   ]
  },
  {
   "cell_type": "markdown",
   "metadata": {},
   "source": [
    "## 6. <a name=\"6\">improvement ideas</a>\n",
    "(<a href=\"#0\">Go to top</a>)"
   ]
  },
  {
   "cell_type": "markdown",
   "metadata": {},
   "source": [
    "- Try to use PCA to reduce the number of features and compare how this will affect the clustring process\n",
    "- Try to run your code again but with different tranformation technique\n",
    "- Implement gap statistics method and use it as evaluation metric and compare the result with what you did before https://www.datanovia.com/en/lessons/determining-the-optimal-number-of-clusters-3-must-know-methods/#gap-statistic-method "
   ]
  },
  {
   "cell_type": "code",
   "execution_count": 72,
   "metadata": {},
   "outputs": [],
   "source": [
    "from sklearn.preprocessing import StandardScaler, normalize\n",
    "\n",
    "scaler = StandardScaler()\n",
    "X_scaled = scaler.fit_transform(df[selected_columns])\n",
    "\n",
    "X_normalized = normalize(X_scaled)\n",
    "\n",
    "X_normalized = pd.DataFrame(X_normalized)\n"
   ]
  },
  {
   "cell_type": "code",
   "execution_count": 76,
   "metadata": {},
   "outputs": [],
   "source": [
    "from sklearn.decomposition import PCA\n",
    "\n",
    "pca = PCA(n_components = 2)\n",
    "X_principal = pca.fit_transform(X_normalized)\n",
    "X_principal = pd.DataFrame(X_principal)\n",
    "X_principal.columns = [ 'Area (sq. mi.)', 'GDP ($ per capita)']"
   ]
  },
  {
   "cell_type": "code",
   "execution_count": 77,
   "metadata": {},
   "outputs": [
    {
     "data": {
      "image/png": "[encoded data removed]",
      "text/plain": [
       "<Figure size 576x576 with 1 Axes>"
      ]
     },
     "metadata": {
      "needs_background": "light"
     },
     "output_type": "display_data"
    }
   ],
   "source": [
    "plt.figure(figsize =(8, 8))\n",
    "plt.title('Visualising the data')\n",
    "Dendrogram = shc.dendrogram((shc.linkage(X_principal, method ='ward')))"
   ]
  },
  {
   "cell_type": "code",
   "execution_count": null,
   "metadata": {},
   "outputs": [],
   "source": []
  }
 ],
 "metadata": {
  "kernelspec": {
   "display_name": "Python 3",
   "language": "python",
   "name": "python3"
  },
  "language_info": {
   "codemirror_mode": {
    "name": "ipython",
    "version": 3
   },
   "file_extension": ".py",
   "mimetype": "text/x-python",
   "name": "python",
   "nbconvert_exporter": "python",
   "pygments_lexer": "ipython3",
   "version": "3.8.5"
  }
 },
 "nbformat": 4,
 "nbformat_minor": 2
}
